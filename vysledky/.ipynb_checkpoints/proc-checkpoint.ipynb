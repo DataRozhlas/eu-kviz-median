{
 "cells": [
  {
   "cell_type": "code",
   "execution_count": 1,
   "metadata": {},
   "outputs": [],
   "source": [
    "import csv\n",
    "from collections import defaultdict"
   ]
  },
  {
   "cell_type": "code",
   "execution_count": 58,
   "metadata": {},
   "outputs": [],
   "source": [
    "data = []\n",
    "unsorted_data = []\n",
    "with open(\"eu-median-kviz.csv\", newline=\"\") as file:\n",
    "    csvreader = csv.reader(file)\n",
    "    next(csvreader)\n",
    "    next(csvreader)\n",
    "    for line in csvreader:\n",
    "        if int(line[1].split(\".\")[0]) > 1557720000:\n",
    "            lineData = eval(line[0])\n",
    "            lineData = [[\"Obránce\", lineData[0]], [\"Protisystémový pesimista\", lineData[1]], [\"Městský liberál\", lineData[2]], \n",
    "                        [\"Profitář\", lineData[3]], [\"Vyloučený\", lineData[4]], [\"Skeptický reformista\", lineData[5]], \n",
    "                        [\"Dočasný pragmatik\", lineData[6]]]\n",
    "            unsorted_data.append(lineData)\n",
    "            data.append([sorted(lineData, key=lambda x: x[1], reverse=True), int(line[1].split(\".\")[0]+\"000\")])"
   ]
  },
  {
   "cell_type": "code",
   "execution_count": 75,
   "metadata": {},
   "outputs": [
    {
     "name": "stdout",
     "output_type": "stream",
     "text": [
      "Obránce 7\n",
      "Protisystémový pesimista 3\n",
      "Městský liberál 45\n",
      "Profitář 16\n",
      "Vyloučený 6\n",
      "Skeptický reformista 17\n",
      "Dočasný pragmatik 7\n"
     ]
    }
   ],
   "source": [
    "for i in range(7):\n",
    "    print(unsorted_data[0][i][0], round(sum([val[i][1] for ind, val in enumerate(unsorted_data)])/len(unsorted_data)*100))"
   ]
  },
  {
   "cell_type": "code",
   "execution_count": 3,
   "metadata": {},
   "outputs": [],
   "source": [
    "results = defaultdict(int)\n",
    "\n",
    "for entry in data:\n",
    "    results[entry[0][0][0]] += 1"
   ]
  },
  {
   "cell_type": "code",
   "execution_count": 4,
   "metadata": {},
   "outputs": [
    {
     "name": "stdout",
     "output_type": "stream",
     "text": [
      "61178\n",
      "Skeptický reformista | 9131 | 14.93 %\n",
      "Městský liberál | 35200 | 57.54 %\n",
      "Profitář | 8221 | 13.44 %\n",
      "Obránce | 6219 | 10.17 %\n",
      "Dočasný pragmatik | 291 | 0.48 %\n",
      "Protisystémový pesimista | 1012 | 1.65 %\n",
      "Vyloučený | 1104 | 1.8 %\n"
     ]
    }
   ],
   "source": [
    "print(len(data))\n",
    "for result in results:\n",
    "    print(result + \" |\", results[result], \"| \" + str(round(results[result]/len(data)*100, 2)) + \" %\")"
   ]
  },
  {
   "cell_type": "code",
   "execution_count": 79,
   "metadata": {},
   "outputs": [],
   "source": [
    "libDict = defaultdict(int)\n",
    "for line in dataDict:\n",
    "    if list(line.keys())[0] == \"Městský liberál\":\n",
    "        libDict[list(line.keys())[1]] += 1"
   ]
  },
  {
   "cell_type": "code",
   "execution_count": 102,
   "metadata": {},
   "outputs": [
    {
     "name": "stdout",
     "output_type": "stream",
     "text": [
      "25487\n",
      "Profitář 11423 44.82\n",
      "Skeptický reformista 14052 55.13\n",
      "Vyloučený 12 0.05\n"
     ]
    }
   ],
   "source": [
    "print(sum(libDict.values()))\n",
    "for line in libDict:\n",
    "    print(line, libDict[line], round(libDict[line]/sum(libDict.values())*100, 2))"
   ]
  },
  {
   "cell_type": "code",
   "execution_count": 108,
   "metadata": {},
   "outputs": [],
   "source": [
    "libDict = defaultdict(int)\n",
    "for line in dataDict:\n",
    "    if list(line.keys())[0] == \"Profitář\":\n",
    "        libDict[list(line.keys())[1]] += 1"
   ]
  },
  {
   "cell_type": "code",
   "execution_count": 109,
   "metadata": {},
   "outputs": [
    {
     "name": "stdout",
     "output_type": "stream",
     "text": [
      "5339\n",
      "Skeptický reformista 3078 57.65\n",
      "Městský liberál 1907 35.72\n",
      "Dočasný pragmatik 170 3.18\n",
      "Vyloučený 170 3.18\n",
      "Obránce 14 0.26\n"
     ]
    }
   ],
   "source": [
    "print(sum(libDict.values()))\n",
    "for line in libDict:\n",
    "    print(line, libDict[line], round(libDict[line]/sum(libDict.values())*100, 2))"
   ]
  },
  {
   "cell_type": "code",
   "execution_count": null,
   "metadata": {},
   "outputs": [],
   "source": []
  }
 ],
 "metadata": {
  "kernelspec": {
   "display_name": "Python 3",
   "language": "python",
   "name": "python3"
  },
  "language_info": {
   "codemirror_mode": {
    "name": "ipython",
    "version": 3
   },
   "file_extension": ".py",
   "mimetype": "text/x-python",
   "name": "python",
   "nbconvert_exporter": "python",
   "pygments_lexer": "ipython3",
   "version": "3.7.3"
  }
 },
 "nbformat": 4,
 "nbformat_minor": 2
}
